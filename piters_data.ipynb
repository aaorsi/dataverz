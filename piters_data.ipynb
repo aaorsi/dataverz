{
 "cells": [
  {
   "cell_type": "markdown",
   "metadata": {},
   "source": [
    "**Exploring data from Pedro**"
   ]
  },
  {
   "cell_type": "code",
   "execution_count": 1,
   "metadata": {},
   "outputs": [],
   "source": [
    "import pandas as pd\n",
    "import numpy as np\n",
    "import matplotlib.pyplot as plt\n",
    "\n",
    "filename = 'ExportCypherviaAPOC29Aug.xlsx'\n",
    "data = pd.read_excel(filename,sheetname=None)\n",
    "pd.set_option('max_rows', 5)"
   ]
  },
  {
   "cell_type": "markdown",
   "metadata": {},
   "source": [
    "Here I define a function to compute the number of pairs over the years, normalised by the number of documents found in that year. This function receives as input a pair of text a - b, and b - a. Sounds silly, but it makes the following computation easier."
   ]
  },
  {
   "cell_type": "code",
   "execution_count": 2,
   "metadata": {},
   "outputs": [],
   "source": [
    "ppy = data['Pairs per year']\n",
    "ndocs = data['Number Docs per Year']\n",
    "TPVal = ppy['Term Pair'].values\n",
    "nall = len(ppy['Year'])\n",
    "#print 'Number of entries: %d'%nel\n",
    "def get_pair_evol(t3,t3_inv):\n",
    "    # Gets the normalised number of pairs for all years\n",
    "    idp1 = np.where((TPVal == t3) | (TPVal == t3_inv))[0] #get all pairs\n",
    "    years = np.sort(np.unique(ppy['Year'][idp1])) # all relevant years for the pair\n",
    "    nyears = len(years) \n",
    "    sum_pairs = ppy.iloc[idp1].groupby('Year') # Grouping by year\n",
    "    sum_alldocs = sum_pairs.sum()\n",
    "    ids = [np.where(ndocs['YEAR'].values == x)[0] for x in years] \n",
    "    ids_list = [x[0] for x in ids]\n",
    "    cc = ndocs['Count docs'].values[ids_list]\n",
    "    norm_pairs = [sum_alldocs.values[x]/(0.0 + cc[x]) for x in range(nyears)]\n",
    "    np_list = [x[0] for x in norm_pairs]\n",
    "    \n",
    "    return years, np_list,t3 #returns the years and list of normalised pairs\n"
   ]
  },
  {
   "cell_type": "markdown",
   "metadata": {},
   "source": []
  },
  {
   "cell_type": "markdown",
   "metadata": {},
   "source": [
    "Here I calculate all possible combinations of pairs, including those in reverse order\n"
   ]
  },
  {
   "cell_type": "code",
   "execution_count": null,
   "metadata": {},
   "outputs": [
    {
     "name": "stdout",
     "output_type": "stream",
     "text": [
      "All pair combinations: 21945\n"
     ]
    }
   ],
   "source": [
    "import itertools\n",
    "\n",
    "terms = np.unique(ppy['t1.Term'])\n",
    "nterms = len(terms)\n",
    "ncomb = int(nterms*(nterms-1)/2.)\n",
    "print 'All pair combinations:', ncomb\n",
    "comb = list(itertools.combinations(terms,2))\n",
    "\n",
    "t3_list = ['%s - %s'%(x[0], x[1]) for x in list(comb)]\n",
    "t3_list_inv = ['%s - %s'%(x[1], x[0]) for x in list(comb)]\n"
   ]
  },
  {
   "cell_type": "markdown",
   "metadata": {},
   "source": [
    "Here the code goes through the database finding each pair combination and running the function from above. To speed up the computation, it is done in parallel using `Pool` in `multiprocessing`. Later,a median value is computed and I plot the results"
   ]
  },
  {
   "cell_type": "code",
   "execution_count": null,
   "metadata": {},
   "outputs": [
    {
     "name": "stdout",
     "output_type": "stream",
     "text": [
      "21945\n"
     ]
    }
   ],
   "source": [
    "import multiprocessing as mp\n",
    "\n",
    "year_arr = np.sort(np.unique(ppy['Year'].values)) # It'll contain all years found in all data\n",
    "nallyears = len(year_arr)\n",
    "\n",
    "nel = ncomb\n",
    "print nel\n",
    "\n",
    "nproc = 4  # number of parallel processes\n",
    "i0 = 0  \n",
    "i1 = nel\n",
    "npp = int((i1-i0+1.0)/(nproc+0.0)) # number of terms that each processor will deal with      \n",
    "\n",
    "def do_pairs(ip):\n",
    "    out = []\n",
    "    x0 = npp*ip\n",
    "    x1 = ncomb-1 if ip == nproc-1 else npp*(ip+1) #the last processor absorbs possible rounding error\n",
    "    np_arr = [[] for x in range(nallyears)]\n",
    "    idarr  = [[] for x in range(nallyears)]\n",
    "    for x in range(x0,x1):\n",
    "        t3 = t3_list[x]\n",
    "        t3_inv = t3_list_inv[x]\n",
    "        year, nplist,pname = get_pair_evol(t3,t3_inv) \n",
    "        for iy in range(nallyears):\n",
    "            year_i = year_arr[iy]\n",
    "            if year_i in year:\n",
    "                idnp = year.tolist().index(year_i) # index of year to find correct pair element\n",
    "                np_arr[iy].append(nplist[idnp])\n",
    "                idarr[iy].append(x)\n",
    "      \n",
    "    print 'Process %d done.'%ip\n",
    "    return [np_arr, idarr] \n",
    "\n",
    "pool = mp.Pool(processes=nproc)\n",
    "res = [pool.apply_async(do_pairs, args=(x,)) for x in range(nproc)]\n",
    "np_arr_p = [p.get()[0] for p in res]\n",
    "id_arr_p  = [p.get()[1] for p in res]\n",
    "\n",
    "\n"
   ]
  },
  {
   "cell_type": "markdown",
   "metadata": {},
   "source": [
    "The function `get_par_id` below retrieves the year array and pairs for a given pair `idnum`. "
   ]
  },
  {
   "cell_type": "code",
   "execution_count": null,
   "metadata": {},
   "outputs": [],
   "source": [
    "\n",
    "def get_pair_id(idnum):\n",
    "    yid = []# [[] for x in range(all_ids)]\n",
    "    pid = []\n",
    "    for ip in range(nproc):\n",
    "        flat_id_arr = np.unique(sum(id_arr_p[ip],[]))\n",
    "        sel = np.where(idnum == flat_id_arr)[0]\n",
    "        if len(sel) == 1:\n",
    "            #ikk =0\n",
    "        #for ik in range(all_ids):\n",
    "            idd = list(flat_id_arr).index(idnum)\n",
    "#            iid = []\n",
    "            for iy in range(nallyears):\n",
    "                id_iy = np.where(np.asarray(id_arr_p[ip][iy]) == idnum)[0]\n",
    "                if len(id_iy) ==1:\n",
    "                    yid.append(year_arr[iy])\n",
    "                    pid.append(np_arr_p[ip][iy][id_iy[0]])\n",
    "        else:\n",
    "            continue\n",
    "    return yid, pid\n",
    "        \n",
    "#        plt.plot(yid,pyid[ikk][1],'k-',linewidth=.01)\n"
   ]
  },
  {
   "cell_type": "code",
   "execution_count": null,
   "metadata": {},
   "outputs": [],
   "source": []
  },
  {
   "cell_type": "markdown",
   "metadata": {},
   "source": [
    "Finally, things are plotted"
   ]
  },
  {
   "cell_type": "code",
   "execution_count": null,
   "metadata": {},
   "outputs": [],
   "source": []
  },
  {
   "cell_type": "code",
   "execution_count": null,
   "metadata": {},
   "outputs": [],
   "source": []
  },
  {
   "cell_type": "code",
   "execution_count": null,
   "metadata": {},
   "outputs": [],
   "source": [
    "from tqdm import tnrange, tqdm_notebook\n",
    "plt.figure(1,figsize=(6,6))\n",
    "\n",
    "# Retrieving each individual pair evolution -- it's a bit slow...\n",
    "print 'Retrieving and plotting every single pair evolution...'\n",
    "\n",
    "# Plot 1000 random pairs\n",
    "nplots = 1000\n",
    "comb_perm = np.random.permutation(np.arange(ncomb))[0:nplots]\n",
    "\n",
    "#for idd in tqdm(range(nplots)):\n",
    "for idd in tqdm_notebook(range(nplots)):\n",
    "    idnum = comb_perm[idd]\n",
    "    yid, pyid = get_pair_id(idnum)\n",
    "    plt.plot(yid,pyid,'k-',linewidth=.1)\n",
    "\n",
    "med_pairs = np.zeros(nallyears)\n",
    "perc = np.zeros([nallyears,2]) #1 and 2 sigma\n",
    "for iy in range(nallyears):\n",
    "    med_pairs[iy] = np.median(sum([x[iy] for x in np_arr_p],[]))\n",
    "    perc[iy,0]      = np.percentile(sum([x[iy] for x in np_arr_p],[]), 84)\n",
    "    perc[iy,1]      = np.percentile(sum([x[iy] for x in np_arr_p],[]), 97.5)\n",
    "\n",
    "nzero = np.where((med_pairs >0) & (~np.isnan(med_pairs)))[0]\n",
    "\n",
    "#smooth curves\n",
    "def smooth(y, box_pts):\n",
    "    box = np.ones(box_pts)/box_pts\n",
    "    y_smooth = np.convolve(y, box, mode='same')\n",
    "    return y_smooth\n",
    "\n",
    "s_median = smooth(med_pairs[nzero],5)\n",
    "\n",
    "\n",
    "plt.plot(np.asarray(year_arr)[nzero], s_median,'r-',linewidth=2,label='Median')\n",
    "plt.fill_between(np.asarray(year_arr)[nzero], s_median,smooth(perc[nzero,1],5),\n",
    "                 facecolor='royalblue',alpha=0.3,label=r'$1-\\sigma$')\n",
    "plt.fill_between(np.asarray(year_arr)[nzero], s_median,smooth(perc[nzero,0],5),\n",
    "                 facecolor='royalblue',alpha=0.7,label=r'$2-\\sigma$')\n",
    "\n",
    "\n",
    "plt.xlabel('Years',fontsize=15)\n",
    "plt.ylabel('Norm.pairs',fontsize=15)\n",
    "plt.yscale('log')\n",
    "plt.legend(loc='lower left')"
   ]
  },
  {
   "cell_type": "code",
   "execution_count": null,
   "metadata": {},
   "outputs": [],
   "source": []
  },
  {
   "cell_type": "code",
   "execution_count": null,
   "metadata": {},
   "outputs": [],
   "source": [
    "\n",
    "\n",
    "\n"
   ]
  },
  {
   "cell_type": "code",
   "execution_count": null,
   "metadata": {},
   "outputs": [],
   "source": [
    "\n"
   ]
  },
  {
   "cell_type": "code",
   "execution_count": null,
   "metadata": {},
   "outputs": [],
   "source": []
  },
  {
   "cell_type": "code",
   "execution_count": null,
   "metadata": {
    "slideshow": {
     "slide_type": "-"
    }
   },
   "outputs": [],
   "source": []
  },
  {
   "cell_type": "code",
   "execution_count": null,
   "metadata": {},
   "outputs": [],
   "source": []
  },
  {
   "cell_type": "code",
   "execution_count": null,
   "metadata": {},
   "outputs": [],
   "source": []
  },
  {
   "cell_type": "code",
   "execution_count": null,
   "metadata": {},
   "outputs": [],
   "source": []
  },
  {
   "cell_type": "code",
   "execution_count": null,
   "metadata": {},
   "outputs": [],
   "source": []
  },
  {
   "cell_type": "code",
   "execution_count": null,
   "metadata": {},
   "outputs": [],
   "source": []
  },
  {
   "cell_type": "code",
   "execution_count": null,
   "metadata": {},
   "outputs": [],
   "source": []
  },
  {
   "cell_type": "code",
   "execution_count": null,
   "metadata": {},
   "outputs": [],
   "source": []
  }
 ],
 "metadata": {
  "kernelspec": {
   "display_name": "Python 2",
   "language": "python",
   "name": "python2"
  },
  "language_info": {
   "codemirror_mode": {
    "name": "ipython",
    "version": 2
   },
   "file_extension": ".py",
   "mimetype": "text/x-python",
   "name": "python",
   "nbconvert_exporter": "python",
   "pygments_lexer": "ipython2",
   "version": "2.7.3"
  }
 },
 "nbformat": 4,
 "nbformat_minor": 2
}
